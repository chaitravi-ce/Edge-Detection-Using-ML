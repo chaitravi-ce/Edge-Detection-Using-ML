{
  "nbformat": 4,
  "nbformat_minor": 5,
  "metadata": {
    "kernelspec": {
      "display_name": "Python 3",
      "language": "python",
      "name": "python3"
    },
    "language_info": {
      "codemirror_mode": {
        "name": "ipython",
        "version": 3
      },
      "file_extension": ".py",
      "mimetype": "text/x-python",
      "name": "python",
      "nbconvert_exporter": "python",
      "pygments_lexer": "ipython3",
      "version": "3.8.8"
    },
    "colab": {
      "name": "Untitled.ipynb",
      "provenance": [],
      "collapsed_sections": []
    },
    "accelerator": "GPU"
  },
  "cells": [
    {
      "cell_type": "code",
      "metadata": {
        "colab": {
          "base_uri": "https://localhost:8080/"
        },
        "id": "379d0a54-3026-41f8-85a0-367fd77424f6",
        "outputId": "720b8bd7-4ae0-4141-c5f5-ac7e37fa5da4"
      },
      "source": [
        "import tensorflow as tf\n",
        "from tensorflow import keras\n",
        "import numpy as np\n",
        "from glob import glob\n",
        "import matplotlib.pyplot as plt\n",
        "import cv2\n",
        "import os\n",
        "from google.colab import drive\n",
        "print(tf.__version__)\n",
        "\n",
        "from tensorflow.keras import regularizers\n",
        "from tensorflow.keras.layers import Input, Conv2D, BatchNormalization, Activation, MaxPool2D, UpSampling2D, Concatenate, Conv2DTranspose\n",
        "from tensorflow.keras.models import Model\n",
        "from tensorflow.keras.callbacks import ModelCheckpoint, ReduceLROnPlateau, EarlyStopping\n",
        "from tensorflow.keras.metrics import Recall, Precision\n",
        "from tensorflow.keras import backend as K"
      ],
      "id": "379d0a54-3026-41f8-85a0-367fd77424f6",
      "execution_count": 1,
      "outputs": [
        {
          "output_type": "stream",
          "text": [
            "2.5.0\n"
          ],
          "name": "stdout"
        }
      ]
    },
    {
      "cell_type": "code",
      "metadata": {
        "colab": {
          "base_uri": "https://localhost:8080/"
        },
        "id": "9kJHLkai79Hd",
        "outputId": "042383e0-8054-4136-d6ac-af1ae1c2173a"
      },
      "source": [
        "drive.mount('/content/drive')"
      ],
      "id": "9kJHLkai79Hd",
      "execution_count": 2,
      "outputs": [
        {
          "output_type": "stream",
          "text": [
            "Drive already mounted at /content/drive; to attempt to forcibly remount, call drive.mount(\"/content/drive\", force_remount=True).\n"
          ],
          "name": "stdout"
        }
      ]
    },
    {
      "cell_type": "code",
      "metadata": {
        "colab": {
          "base_uri": "https://localhost:8080/"
        },
        "id": "fPBs0dy98Kup",
        "outputId": "49bbbcda-3603-4c36-adf3-cfde9a20cbcf"
      },
      "source": [
        "%cd drive/MyDrive/Edge/\n",
        "!ls"
      ],
      "id": "fPBs0dy98Kup",
      "execution_count": 3,
      "outputs": [
        {
          "output_type": "stream",
          "text": [
            "/content/drive/MyDrive/Edge\n",
            "BIPED  DexiNed.h5\n"
          ],
          "name": "stdout"
        }
      ]
    },
    {
      "cell_type": "code",
      "metadata": {
        "id": "dedd5e4a-a4ec-4efc-9e7c-abf94fec1bb8"
      },
      "source": [
        "train_path = \"./BIPED/edges/imgs/train/rgbr/real/*\"\n",
        "edge_train_path = \"./BIPED/edges/edge_maps/train/rgbr/real/*\"\n",
        "test_path = \"./BIPED/edges/imgs/test/rgbr/*\"\n",
        "edge_test_path = \"./BIPED/edges/edge_maps/test/rgbr/*\""
      ],
      "id": "dedd5e4a-a4ec-4efc-9e7c-abf94fec1bb8",
      "execution_count": 4,
      "outputs": []
    },
    {
      "cell_type": "code",
      "metadata": {
        "id": "e0e1c946-a32b-4821-a35d-9b2d6261fdaf"
      },
      "source": [
        "def load_data(ipath, epath):\n",
        "    images = sorted(glob(os.path.join(ipath)))\n",
        "    edges = sorted(glob(os.path.join(epath)))\n",
        "    return images, edges"
      ],
      "id": "e0e1c946-a32b-4821-a35d-9b2d6261fdaf",
      "execution_count": 5,
      "outputs": []
    },
    {
      "cell_type": "code",
      "metadata": {
        "id": "8b4aa7de-03b4-4568-b18c-b658089cbaf4"
      },
      "source": [
        "images, edges = load_data(train_path, edge_train_path)\n",
        "testimg, testedg = load_data(test_path, edge_test_path)"
      ],
      "id": "8b4aa7de-03b4-4568-b18c-b658089cbaf4",
      "execution_count": 6,
      "outputs": []
    },
    {
      "cell_type": "code",
      "metadata": {
        "colab": {
          "base_uri": "https://localhost:8080/"
        },
        "id": "8accce3a-24b1-4783-86cf-260c88646b73",
        "outputId": "953ef58b-a426-4ede-e8b5-eb83d36481ae"
      },
      "source": [
        "print(len(images), len(edges))"
      ],
      "id": "8accce3a-24b1-4783-86cf-260c88646b73",
      "execution_count": 7,
      "outputs": [
        {
          "output_type": "stream",
          "text": [
            "200 200\n"
          ],
          "name": "stdout"
        }
      ]
    },
    {
      "cell_type": "code",
      "metadata": {
        "id": "c3bbd9d5-4ae7-43a9-9694-2d9fe28fc65b"
      },
      "source": [
        "def read_image(path, H=720, W=1280):\n",
        "    x = cv2.imread(path, cv2.IMREAD_COLOR)\n",
        "    x = cv2.resize(x, (W,H))\n",
        "    x = x/255.0\n",
        "    x = x.astype(np.float32)\n",
        "    return x\n",
        "\n",
        "def read_edge(path, H=720, W=1280):\n",
        "    x = cv2.imread(path, cv2.IMREAD_GRAYSCALE)\n",
        "    _, x = cv2.threshold(x,127,255,cv2.THRESH_BINARY)\n",
        "    x = cv2.resize(x, (W,H))\n",
        "    x = np.expand_dims(x, axis=-1)\n",
        "    x = x/255.0\n",
        "    x = x.astype(np.float32)\n",
        "    return x"
      ],
      "id": "c3bbd9d5-4ae7-43a9-9694-2d9fe28fc65b",
      "execution_count": 49,
      "outputs": []
    },
    {
      "cell_type": "code",
      "metadata": {
        "id": "f83e1219-8534-4996-83b4-989f5f068090"
      },
      "source": [
        "def preprocess(x,y,H=720, W=1280):\n",
        "    \n",
        "    def f(x,y):\n",
        "        x = x.decode()\n",
        "        y = y.decode()\n",
        "        \n",
        "        x = read_image(x)\n",
        "        y = read_edge(y)\n",
        "        return x, y\n",
        "    \n",
        "    images, edges = tf.numpy_function(f, [x, y], [tf.float32, tf.float32])\n",
        "    images.set_shape([H, W, 3])\n",
        "    edges.set_shape([H, W, 1])\n",
        "    return images, edges"
      ],
      "id": "f83e1219-8534-4996-83b4-989f5f068090",
      "execution_count": 50,
      "outputs": []
    },
    {
      "cell_type": "code",
      "metadata": {
        "id": "30c1fd06-77ca-4de5-be6f-48d3be5867a3"
      },
      "source": [
        "def tf_data(x,y):\n",
        "    data = tf.data.Dataset.from_tensor_slices((x,y))\n",
        "    data = data.shuffle(buffer_size=10)\n",
        "    data = data.map(preprocess)\n",
        "    data = data.batch(1)\n",
        "    data = data.prefetch(1)\n",
        "    return data"
      ],
      "id": "30c1fd06-77ca-4de5-be6f-48d3be5867a3",
      "execution_count": 51,
      "outputs": []
    },
    {
      "cell_type": "code",
      "metadata": {
        "id": "7e3120eb-0e37-475d-b3fc-668eff4012ba"
      },
      "source": [
        "train_data = tf_data(images, edges)\n",
        "test_data = tf_data(testimg, testedg)"
      ],
      "id": "7e3120eb-0e37-475d-b3fc-668eff4012ba",
      "execution_count": 52,
      "outputs": []
    },
    {
      "cell_type": "code",
      "metadata": {
        "id": "6ba732b9-0046-4181-b353-488620a5b033",
        "colab": {
          "base_uri": "https://localhost:8080/"
        },
        "outputId": "48650b73-b7ee-4b08-8378-49aac564ad8e"
      },
      "source": [
        "for x, y in train_data:\n",
        "    print(x.shape, y.shape)\n",
        "print(train_data)"
      ],
      "id": "6ba732b9-0046-4181-b353-488620a5b033",
      "execution_count": 53,
      "outputs": [
        {
          "output_type": "stream",
          "text": [
            "(1, 720, 1280, 3) (1, 720, 1280, 1)\n",
            "(1, 720, 1280, 3) (1, 720, 1280, 1)\n",
            "(1, 720, 1280, 3) (1, 720, 1280, 1)\n",
            "(1, 720, 1280, 3) (1, 720, 1280, 1)\n",
            "(1, 720, 1280, 3) (1, 720, 1280, 1)\n",
            "(1, 720, 1280, 3) (1, 720, 1280, 1)\n",
            "(1, 720, 1280, 3) (1, 720, 1280, 1)\n",
            "(1, 720, 1280, 3) (1, 720, 1280, 1)\n",
            "(1, 720, 1280, 3) (1, 720, 1280, 1)\n",
            "(1, 720, 1280, 3) (1, 720, 1280, 1)\n",
            "(1, 720, 1280, 3) (1, 720, 1280, 1)\n",
            "(1, 720, 1280, 3) (1, 720, 1280, 1)\n",
            "(1, 720, 1280, 3) (1, 720, 1280, 1)\n",
            "(1, 720, 1280, 3) (1, 720, 1280, 1)\n",
            "(1, 720, 1280, 3) (1, 720, 1280, 1)\n",
            "(1, 720, 1280, 3) (1, 720, 1280, 1)\n",
            "(1, 720, 1280, 3) (1, 720, 1280, 1)\n",
            "(1, 720, 1280, 3) (1, 720, 1280, 1)\n",
            "(1, 720, 1280, 3) (1, 720, 1280, 1)\n",
            "(1, 720, 1280, 3) (1, 720, 1280, 1)\n",
            "(1, 720, 1280, 3) (1, 720, 1280, 1)\n",
            "(1, 720, 1280, 3) (1, 720, 1280, 1)\n",
            "(1, 720, 1280, 3) (1, 720, 1280, 1)\n",
            "(1, 720, 1280, 3) (1, 720, 1280, 1)\n",
            "(1, 720, 1280, 3) (1, 720, 1280, 1)\n",
            "(1, 720, 1280, 3) (1, 720, 1280, 1)\n",
            "(1, 720, 1280, 3) (1, 720, 1280, 1)\n",
            "(1, 720, 1280, 3) (1, 720, 1280, 1)\n",
            "(1, 720, 1280, 3) (1, 720, 1280, 1)\n",
            "(1, 720, 1280, 3) (1, 720, 1280, 1)\n",
            "(1, 720, 1280, 3) (1, 720, 1280, 1)\n",
            "(1, 720, 1280, 3) (1, 720, 1280, 1)\n",
            "(1, 720, 1280, 3) (1, 720, 1280, 1)\n",
            "(1, 720, 1280, 3) (1, 720, 1280, 1)\n",
            "(1, 720, 1280, 3) (1, 720, 1280, 1)\n",
            "(1, 720, 1280, 3) (1, 720, 1280, 1)\n",
            "(1, 720, 1280, 3) (1, 720, 1280, 1)\n",
            "(1, 720, 1280, 3) (1, 720, 1280, 1)\n",
            "(1, 720, 1280, 3) (1, 720, 1280, 1)\n",
            "(1, 720, 1280, 3) (1, 720, 1280, 1)\n",
            "(1, 720, 1280, 3) (1, 720, 1280, 1)\n",
            "(1, 720, 1280, 3) (1, 720, 1280, 1)\n",
            "(1, 720, 1280, 3) (1, 720, 1280, 1)\n",
            "(1, 720, 1280, 3) (1, 720, 1280, 1)\n",
            "(1, 720, 1280, 3) (1, 720, 1280, 1)\n",
            "(1, 720, 1280, 3) (1, 720, 1280, 1)\n",
            "(1, 720, 1280, 3) (1, 720, 1280, 1)\n",
            "(1, 720, 1280, 3) (1, 720, 1280, 1)\n",
            "(1, 720, 1280, 3) (1, 720, 1280, 1)\n",
            "(1, 720, 1280, 3) (1, 720, 1280, 1)\n",
            "(1, 720, 1280, 3) (1, 720, 1280, 1)\n",
            "(1, 720, 1280, 3) (1, 720, 1280, 1)\n",
            "(1, 720, 1280, 3) (1, 720, 1280, 1)\n",
            "(1, 720, 1280, 3) (1, 720, 1280, 1)\n",
            "(1, 720, 1280, 3) (1, 720, 1280, 1)\n",
            "(1, 720, 1280, 3) (1, 720, 1280, 1)\n",
            "(1, 720, 1280, 3) (1, 720, 1280, 1)\n",
            "(1, 720, 1280, 3) (1, 720, 1280, 1)\n",
            "(1, 720, 1280, 3) (1, 720, 1280, 1)\n",
            "(1, 720, 1280, 3) (1, 720, 1280, 1)\n",
            "(1, 720, 1280, 3) (1, 720, 1280, 1)\n",
            "(1, 720, 1280, 3) (1, 720, 1280, 1)\n",
            "(1, 720, 1280, 3) (1, 720, 1280, 1)\n",
            "(1, 720, 1280, 3) (1, 720, 1280, 1)\n",
            "(1, 720, 1280, 3) (1, 720, 1280, 1)\n",
            "(1, 720, 1280, 3) (1, 720, 1280, 1)\n",
            "(1, 720, 1280, 3) (1, 720, 1280, 1)\n",
            "(1, 720, 1280, 3) (1, 720, 1280, 1)\n",
            "(1, 720, 1280, 3) (1, 720, 1280, 1)\n",
            "(1, 720, 1280, 3) (1, 720, 1280, 1)\n",
            "(1, 720, 1280, 3) (1, 720, 1280, 1)\n",
            "(1, 720, 1280, 3) (1, 720, 1280, 1)\n",
            "(1, 720, 1280, 3) (1, 720, 1280, 1)\n",
            "(1, 720, 1280, 3) (1, 720, 1280, 1)\n",
            "(1, 720, 1280, 3) (1, 720, 1280, 1)\n",
            "(1, 720, 1280, 3) (1, 720, 1280, 1)\n",
            "(1, 720, 1280, 3) (1, 720, 1280, 1)\n",
            "(1, 720, 1280, 3) (1, 720, 1280, 1)\n",
            "(1, 720, 1280, 3) (1, 720, 1280, 1)\n",
            "(1, 720, 1280, 3) (1, 720, 1280, 1)\n",
            "(1, 720, 1280, 3) (1, 720, 1280, 1)\n",
            "(1, 720, 1280, 3) (1, 720, 1280, 1)\n",
            "(1, 720, 1280, 3) (1, 720, 1280, 1)\n",
            "(1, 720, 1280, 3) (1, 720, 1280, 1)\n",
            "(1, 720, 1280, 3) (1, 720, 1280, 1)\n",
            "(1, 720, 1280, 3) (1, 720, 1280, 1)\n",
            "(1, 720, 1280, 3) (1, 720, 1280, 1)\n",
            "(1, 720, 1280, 3) (1, 720, 1280, 1)\n",
            "(1, 720, 1280, 3) (1, 720, 1280, 1)\n",
            "(1, 720, 1280, 3) (1, 720, 1280, 1)\n",
            "(1, 720, 1280, 3) (1, 720, 1280, 1)\n",
            "(1, 720, 1280, 3) (1, 720, 1280, 1)\n",
            "(1, 720, 1280, 3) (1, 720, 1280, 1)\n",
            "(1, 720, 1280, 3) (1, 720, 1280, 1)\n",
            "(1, 720, 1280, 3) (1, 720, 1280, 1)\n",
            "(1, 720, 1280, 3) (1, 720, 1280, 1)\n",
            "(1, 720, 1280, 3) (1, 720, 1280, 1)\n",
            "(1, 720, 1280, 3) (1, 720, 1280, 1)\n",
            "(1, 720, 1280, 3) (1, 720, 1280, 1)\n",
            "(1, 720, 1280, 3) (1, 720, 1280, 1)\n",
            "(1, 720, 1280, 3) (1, 720, 1280, 1)\n",
            "(1, 720, 1280, 3) (1, 720, 1280, 1)\n",
            "(1, 720, 1280, 3) (1, 720, 1280, 1)\n",
            "(1, 720, 1280, 3) (1, 720, 1280, 1)\n",
            "(1, 720, 1280, 3) (1, 720, 1280, 1)\n",
            "(1, 720, 1280, 3) (1, 720, 1280, 1)\n",
            "(1, 720, 1280, 3) (1, 720, 1280, 1)\n",
            "(1, 720, 1280, 3) (1, 720, 1280, 1)\n",
            "(1, 720, 1280, 3) (1, 720, 1280, 1)\n",
            "(1, 720, 1280, 3) (1, 720, 1280, 1)\n",
            "(1, 720, 1280, 3) (1, 720, 1280, 1)\n",
            "(1, 720, 1280, 3) (1, 720, 1280, 1)\n",
            "(1, 720, 1280, 3) (1, 720, 1280, 1)\n",
            "(1, 720, 1280, 3) (1, 720, 1280, 1)\n",
            "(1, 720, 1280, 3) (1, 720, 1280, 1)\n",
            "(1, 720, 1280, 3) (1, 720, 1280, 1)\n",
            "(1, 720, 1280, 3) (1, 720, 1280, 1)\n",
            "(1, 720, 1280, 3) (1, 720, 1280, 1)\n",
            "(1, 720, 1280, 3) (1, 720, 1280, 1)\n",
            "(1, 720, 1280, 3) (1, 720, 1280, 1)\n",
            "(1, 720, 1280, 3) (1, 720, 1280, 1)\n",
            "(1, 720, 1280, 3) (1, 720, 1280, 1)\n",
            "(1, 720, 1280, 3) (1, 720, 1280, 1)\n",
            "(1, 720, 1280, 3) (1, 720, 1280, 1)\n",
            "(1, 720, 1280, 3) (1, 720, 1280, 1)\n",
            "(1, 720, 1280, 3) (1, 720, 1280, 1)\n",
            "(1, 720, 1280, 3) (1, 720, 1280, 1)\n",
            "(1, 720, 1280, 3) (1, 720, 1280, 1)\n",
            "(1, 720, 1280, 3) (1, 720, 1280, 1)\n",
            "(1, 720, 1280, 3) (1, 720, 1280, 1)\n",
            "(1, 720, 1280, 3) (1, 720, 1280, 1)\n",
            "(1, 720, 1280, 3) (1, 720, 1280, 1)\n",
            "(1, 720, 1280, 3) (1, 720, 1280, 1)\n",
            "(1, 720, 1280, 3) (1, 720, 1280, 1)\n",
            "(1, 720, 1280, 3) (1, 720, 1280, 1)\n",
            "(1, 720, 1280, 3) (1, 720, 1280, 1)\n",
            "(1, 720, 1280, 3) (1, 720, 1280, 1)\n",
            "(1, 720, 1280, 3) (1, 720, 1280, 1)\n",
            "(1, 720, 1280, 3) (1, 720, 1280, 1)\n",
            "(1, 720, 1280, 3) (1, 720, 1280, 1)\n",
            "(1, 720, 1280, 3) (1, 720, 1280, 1)\n",
            "(1, 720, 1280, 3) (1, 720, 1280, 1)\n",
            "(1, 720, 1280, 3) (1, 720, 1280, 1)\n",
            "(1, 720, 1280, 3) (1, 720, 1280, 1)\n",
            "(1, 720, 1280, 3) (1, 720, 1280, 1)\n",
            "(1, 720, 1280, 3) (1, 720, 1280, 1)\n",
            "(1, 720, 1280, 3) (1, 720, 1280, 1)\n",
            "(1, 720, 1280, 3) (1, 720, 1280, 1)\n",
            "(1, 720, 1280, 3) (1, 720, 1280, 1)\n",
            "(1, 720, 1280, 3) (1, 720, 1280, 1)\n",
            "(1, 720, 1280, 3) (1, 720, 1280, 1)\n",
            "(1, 720, 1280, 3) (1, 720, 1280, 1)\n",
            "(1, 720, 1280, 3) (1, 720, 1280, 1)\n",
            "(1, 720, 1280, 3) (1, 720, 1280, 1)\n",
            "(1, 720, 1280, 3) (1, 720, 1280, 1)\n",
            "(1, 720, 1280, 3) (1, 720, 1280, 1)\n",
            "(1, 720, 1280, 3) (1, 720, 1280, 1)\n",
            "(1, 720, 1280, 3) (1, 720, 1280, 1)\n",
            "(1, 720, 1280, 3) (1, 720, 1280, 1)\n",
            "(1, 720, 1280, 3) (1, 720, 1280, 1)\n",
            "(1, 720, 1280, 3) (1, 720, 1280, 1)\n",
            "(1, 720, 1280, 3) (1, 720, 1280, 1)\n",
            "(1, 720, 1280, 3) (1, 720, 1280, 1)\n",
            "(1, 720, 1280, 3) (1, 720, 1280, 1)\n",
            "(1, 720, 1280, 3) (1, 720, 1280, 1)\n",
            "(1, 720, 1280, 3) (1, 720, 1280, 1)\n",
            "(1, 720, 1280, 3) (1, 720, 1280, 1)\n",
            "(1, 720, 1280, 3) (1, 720, 1280, 1)\n",
            "(1, 720, 1280, 3) (1, 720, 1280, 1)\n",
            "(1, 720, 1280, 3) (1, 720, 1280, 1)\n",
            "(1, 720, 1280, 3) (1, 720, 1280, 1)\n",
            "(1, 720, 1280, 3) (1, 720, 1280, 1)\n",
            "(1, 720, 1280, 3) (1, 720, 1280, 1)\n",
            "(1, 720, 1280, 3) (1, 720, 1280, 1)\n",
            "(1, 720, 1280, 3) (1, 720, 1280, 1)\n",
            "(1, 720, 1280, 3) (1, 720, 1280, 1)\n",
            "(1, 720, 1280, 3) (1, 720, 1280, 1)\n",
            "(1, 720, 1280, 3) (1, 720, 1280, 1)\n",
            "(1, 720, 1280, 3) (1, 720, 1280, 1)\n",
            "(1, 720, 1280, 3) (1, 720, 1280, 1)\n",
            "(1, 720, 1280, 3) (1, 720, 1280, 1)\n",
            "(1, 720, 1280, 3) (1, 720, 1280, 1)\n",
            "(1, 720, 1280, 3) (1, 720, 1280, 1)\n",
            "(1, 720, 1280, 3) (1, 720, 1280, 1)\n",
            "(1, 720, 1280, 3) (1, 720, 1280, 1)\n",
            "(1, 720, 1280, 3) (1, 720, 1280, 1)\n",
            "(1, 720, 1280, 3) (1, 720, 1280, 1)\n",
            "(1, 720, 1280, 3) (1, 720, 1280, 1)\n",
            "(1, 720, 1280, 3) (1, 720, 1280, 1)\n",
            "(1, 720, 1280, 3) (1, 720, 1280, 1)\n",
            "(1, 720, 1280, 3) (1, 720, 1280, 1)\n",
            "(1, 720, 1280, 3) (1, 720, 1280, 1)\n",
            "(1, 720, 1280, 3) (1, 720, 1280, 1)\n",
            "(1, 720, 1280, 3) (1, 720, 1280, 1)\n",
            "(1, 720, 1280, 3) (1, 720, 1280, 1)\n",
            "(1, 720, 1280, 3) (1, 720, 1280, 1)\n",
            "(1, 720, 1280, 3) (1, 720, 1280, 1)\n",
            "(1, 720, 1280, 3) (1, 720, 1280, 1)\n",
            "(1, 720, 1280, 3) (1, 720, 1280, 1)\n",
            "(1, 720, 1280, 3) (1, 720, 1280, 1)\n",
            "<PrefetchDataset shapes: ((None, 720, 1280, 3), (None, 720, 1280, 1)), types: (tf.float32, tf.float32)>\n"
          ],
          "name": "stdout"
        }
      ]
    },
    {
      "cell_type": "code",
      "metadata": {
        "id": "e33230bb-053a-4733-93ce-263ad3d8b809"
      },
      "source": [
        "weight_init = tf.initializers.glorot_uniform()\n",
        "\n",
        "l2 = regularizers.l2\n",
        "w_decay=1e-3"
      ],
      "id": "e33230bb-053a-4733-93ce-263ad3d8b809",
      "execution_count": 54,
      "outputs": []
    },
    {
      "cell_type": "code",
      "metadata": {
        "id": "888d5e5b-e521-4fc3-995d-e3290f5388db"
      },
      "source": [
        "def double_conv_block(inputs, f1, f2, stride=(1,1), act=True):\n",
        "    \n",
        "    k_reg = None if w_decay is None else l2(w_decay)\n",
        "    \n",
        "    c1 = Conv2D(filters=f1, kernel_size=(3,3), strides=stride, padding=\"same\", kernel_initializer=weight_init, kernel_regularizer=k_reg)(inputs)\n",
        "    c1 = BatchNormalization()(c1)\n",
        "    c1 = Conv2D(filters=f2, kernel_size=(3,3), strides=(1,1), padding=\"same\", kernel_initializer=weight_init, kernel_regularizer=k_reg)(c1)\n",
        "    c1 = BatchNormalization()(c1)\n",
        "    \n",
        "    if act:\n",
        "        c1 = Activation(\"relu\")(c1)\n",
        "    \n",
        "    return c1"
      ],
      "id": "888d5e5b-e521-4fc3-995d-e3290f5388db",
      "execution_count": 55,
      "outputs": []
    },
    {
      "cell_type": "code",
      "metadata": {
        "id": "523e6c13-7430-4a36-b949-f8e617b0f25b"
      },
      "source": [
        "def DenseBlock(inputs, filters):\n",
        "    \n",
        "    k_reg = None if w_decay is None else l2(w_decay)\n",
        "    \n",
        "    c1 = Activation(\"relu\")(inputs)\n",
        "    c1 = Conv2D(filters=filters, kernel_size=(3,3), strides=(1,1), padding='same', kernel_initializer=weight_init, kernel_regularizer=k_reg)(c1)\n",
        "    c1 = BatchNormalization()(c1)\n",
        "    c1 = Activation(\"relu\")(c1)\n",
        "    c1 = Conv2D(filters=filters, kernel_size=(3,3), strides=(1,1), padding='same', kernel_initializer=weight_init, kernel_regularizer=k_reg)(c1)\n",
        "    c1 = BatchNormalization()(c1)\n",
        "    \n",
        "    return c1"
      ],
      "id": "523e6c13-7430-4a36-b949-f8e617b0f25b",
      "execution_count": 56,
      "outputs": []
    },
    {
      "cell_type": "code",
      "metadata": {
        "id": "d6d8ca3e-3ef6-47ee-85ad-2a4f03f33cca"
      },
      "source": [
        "def single_conv_block(inputs, filters, kernel=(1,1), strides=(1,1), bn=False, act=False, w_init=None):\n",
        "    \n",
        "    k_reg = None if w_decay is None else l2(w_decay)\n",
        "    \n",
        "    c1 = Conv2D(filters=filters, kernel_size=kernel, strides=strides, padding=\"same\", kernel_initializer=w_init, kernel_regularizer=k_reg)(inputs)\n",
        "    \n",
        "    if bn:\n",
        "        c1 = BatchNormalization()(c1)\n",
        "        \n",
        "    if act:\n",
        "        c1 = Activation(\"relu\")(c1)\n",
        "        \n",
        "    return c1"
      ],
      "id": "d6d8ca3e-3ef6-47ee-85ad-2a4f03f33cca",
      "execution_count": 57,
      "outputs": []
    },
    {
      "cell_type": "code",
      "metadata": {
        "id": "768fe149-63a1-4997-8a4d-e636a6af5d60"
      },
      "source": [
        "def UpConvBlock(inputs, up_scale):\n",
        "    \n",
        "    constant_features = 16\n",
        "    k_reg = None if w_decay is None else l2(w_decay)\n",
        "    c1 = inputs\n",
        "    \n",
        "    total_up_scale = 2 ** up_scale\n",
        "    \n",
        "    for i in range(up_scale):\n",
        "        \n",
        "        filters = 1 if i == up_scale-1 else constant_features\n",
        "        \n",
        "        if i==up_scale-1:\n",
        "            \n",
        "            c1 = Conv2D(filters=filters, kernel_size=(1,1), \n",
        "                        strides=(1,1), padding='same', activation='relu', \n",
        "                        kernel_initializer=tf.initializers.TruncatedNormal(mean=0.),kernel_regularizer=k_reg)(c1)\n",
        "            c1 = Conv2DTranspose(filters, kernel_size=(total_up_scale,total_up_scale), \n",
        "                                 strides=(2,2), padding='same', kernel_initializer=tf.initializers.TruncatedNormal(stddev=0.1), \n",
        "                                 kernel_regularizer=k_reg)(c1)\n",
        "        else:\n",
        "            \n",
        "            c1 = Conv2D(filters=filters, kernel_size=(1,1), \n",
        "                        strides=(1,1), padding='same', activation='relu', \n",
        "                        kernel_initializer=tf.initializers.TruncatedNormal(mean=0.),kernel_regularizer=k_reg)(c1)\n",
        "            c1 = Conv2DTranspose(filters, kernel_size=(total_up_scale,total_up_scale), strides=(2,2), padding='same',\n",
        "                                kernel_initializer=weight_init, kernel_regularizer=k_reg)(c1)\n",
        "            \n",
        "    \n",
        "    \n",
        "    return c1   "
      ],
      "id": "768fe149-63a1-4997-8a4d-e636a6af5d60",
      "execution_count": 58,
      "outputs": []
    },
    {
      "cell_type": "code",
      "metadata": {
        "id": "df6d7e48-37cd-4b5f-af22-84807b741417"
      },
      "source": [
        "def build_model():\n",
        "    \n",
        "    inputs = Input((720, 1280,3))\n",
        "    \n",
        "    b1 = double_conv_block(inputs, 32, 64, stride=(2,2), act=False)\n",
        "    side_b1 = single_conv_block(b1, 128, strides=(2,2), bn=True, w_init=weight_init)\n",
        "    \n",
        "    b2 = double_conv_block(b1, 128, 128, act=False)\n",
        "    b2 = MaxPool2D(pool_size=(3, 3), strides=2, padding='same')(b2)\n",
        "    b2_up = Concatenate()([b2 + side_b1])\n",
        "    side_b2 = single_conv_block(b2_up, 256, strides=(2,2), bn=True, w_init=weight_init)\n",
        "    \n",
        "    b3_pre = single_conv_block(b2, 128, strides=(1,1), bn=True, w_init=weight_init)\n",
        "    b3 = DenseBlock(b2_up+b3_pre, 256)\n",
        "    b3 = DenseBlock(b3, 256)\n",
        "    b3_down = MaxPool2D(pool_size=(3,3), strides=2, padding=\"same\")(b3)\n",
        "    b3_add = b3_down + side_b2\n",
        "    side_b3 = single_conv_block(b3_add, 512, strides=(2,2), bn=True, w_init=weight_init)\n",
        "    \n",
        "    b4_pre_1 = single_conv_block(b2, 256, strides=(2,2), w_init=weight_init)\n",
        "    b4_pre_2 = single_conv_block(b3_down+b4_pre_1, 256, strides=(1,1), bn=True, w_init=weight_init)\n",
        "    b4 = DenseBlock(b3_add+b4_pre_2, 512)\n",
        "    b4 = DenseBlock(b4, 512)\n",
        "    b4 = DenseBlock(b4, 512)\n",
        "    b4_down = MaxPool2D(pool_size=(3,3), strides=(2,2), padding=\"same\")(b4)\n",
        "    b4_add = b4_down+side_b3\n",
        "    side_b4 = single_conv_block(b4_add, 512, strides=(1,1), bn=True, w_init=weight_init)\n",
        "    \n",
        "    b5_pre_1 = single_conv_block(b4_pre_1, 512, strides=(2,2), w_init=weight_init)\n",
        "    b5_pre_2 = single_conv_block(b4_down+b5_pre_1, 512, strides=(1,1), bn=True, w_init=weight_init)\n",
        "    b5 = DenseBlock(b4_add+b5_pre_2, 512)\n",
        "    b5 = DenseBlock(b5, 512)\n",
        "    b5 = DenseBlock(b5, 512)\n",
        "    b5_add = b5+side_b4\n",
        "    \n",
        "    b6_pre = single_conv_block(b5, 512, strides=(1,1), bn=True, w_init=weight_init)\n",
        "    b6 = DenseBlock(b5_add+b6_pre, 256)\n",
        "    b6 = DenseBlock(b6, 256)\n",
        "    b6 = DenseBlock(b6, 256)\n",
        "    \n",
        "    out1 = UpConvBlock(b1, 1)\n",
        "    out2 = UpConvBlock(b2, 2)\n",
        "    out3 = UpConvBlock(b3, 2)\n",
        "    out4 = UpConvBlock(b4, 3)\n",
        "    out5 = UpConvBlock(b5, 4)\n",
        "    out6 = UpConvBlock(b6, 4)\n",
        "    results = [out1, out2, out3, out4, out5, out6]\n",
        "    \n",
        "    block_cat = Concatenate()([out1,out2,out3,out4,out5,out6])\n",
        "    b1_cat = single_conv_block(block_cat, 3, strides=(1,1), bn=True, w_init=tf.constant_initializer(1/5))\n",
        "    bl = Concatenate()([block_cat, b1_cat])\n",
        "    bl = Conv2D(1, kernel_size=(3,3), padding=\"same\")(bl)\n",
        "    bl = Activation(\"sigmoid\")(bl)\n",
        "\n",
        "    return Model(inputs=inputs, outputs=bl)"
      ],
      "id": "df6d7e48-37cd-4b5f-af22-84807b741417",
      "execution_count": 59,
      "outputs": []
    },
    {
      "cell_type": "code",
      "metadata": {
        "id": "59882019-e068-487e-961e-c2580015d2cd",
        "colab": {
          "base_uri": "https://localhost:8080/"
        },
        "outputId": "72725c40-30b9-4621-b93b-16cbce9e33d4"
      },
      "source": [
        "model = build_model()\n",
        "model.summary()"
      ],
      "id": "59882019-e068-487e-961e-c2580015d2cd",
      "execution_count": 60,
      "outputs": [
        {
          "output_type": "stream",
          "text": [
            "Model: \"model\"\n",
            "__________________________________________________________________________________________________\n",
            "Layer (type)                    Output Shape         Param #     Connected to                     \n",
            "==================================================================================================\n",
            "input_1 (InputLayer)            [(None, 720, 1280, 3 0                                            \n",
            "__________________________________________________________________________________________________\n",
            "conv2d (Conv2D)                 (None, 360, 640, 32) 896         input_1[0][0]                    \n",
            "__________________________________________________________________________________________________\n",
            "batch_normalization (BatchNorma (None, 360, 640, 32) 128         conv2d[0][0]                     \n",
            "__________________________________________________________________________________________________\n",
            "conv2d_1 (Conv2D)               (None, 360, 640, 64) 18496       batch_normalization[0][0]        \n",
            "__________________________________________________________________________________________________\n",
            "batch_normalization_1 (BatchNor (None, 360, 640, 64) 256         conv2d_1[0][0]                   \n",
            "__________________________________________________________________________________________________\n",
            "conv2d_3 (Conv2D)               (None, 360, 640, 128 73856       batch_normalization_1[0][0]      \n",
            "__________________________________________________________________________________________________\n",
            "batch_normalization_3 (BatchNor (None, 360, 640, 128 512         conv2d_3[0][0]                   \n",
            "__________________________________________________________________________________________________\n",
            "conv2d_4 (Conv2D)               (None, 360, 640, 128 147584      batch_normalization_3[0][0]      \n",
            "__________________________________________________________________________________________________\n",
            "batch_normalization_4 (BatchNor (None, 360, 640, 128 512         conv2d_4[0][0]                   \n",
            "__________________________________________________________________________________________________\n",
            "conv2d_2 (Conv2D)               (None, 180, 320, 128 8320        batch_normalization_1[0][0]      \n",
            "__________________________________________________________________________________________________\n",
            "max_pooling2d (MaxPooling2D)    (None, 180, 320, 128 0           batch_normalization_4[0][0]      \n",
            "__________________________________________________________________________________________________\n",
            "batch_normalization_2 (BatchNor (None, 180, 320, 128 512         conv2d_2[0][0]                   \n",
            "__________________________________________________________________________________________________\n",
            "tf.__operators__.add (TFOpLambd (None, 180, 320, 128 0           max_pooling2d[0][0]              \n",
            "                                                                 batch_normalization_2[0][0]      \n",
            "__________________________________________________________________________________________________\n",
            "conv2d_6 (Conv2D)               (None, 180, 320, 128 16512       max_pooling2d[0][0]              \n",
            "__________________________________________________________________________________________________\n",
            "concatenate (Concatenate)       (None, 180, 320, 128 0           tf.__operators__.add[0][0]       \n",
            "__________________________________________________________________________________________________\n",
            "batch_normalization_6 (BatchNor (None, 180, 320, 128 512         conv2d_6[0][0]                   \n",
            "__________________________________________________________________________________________________\n",
            "tf.__operators__.add_1 (TFOpLam (None, 180, 320, 128 0           concatenate[0][0]                \n",
            "                                                                 batch_normalization_6[0][0]      \n",
            "__________________________________________________________________________________________________\n",
            "activation (Activation)         (None, 180, 320, 128 0           tf.__operators__.add_1[0][0]     \n",
            "__________________________________________________________________________________________________\n",
            "conv2d_7 (Conv2D)               (None, 180, 320, 256 295168      activation[0][0]                 \n",
            "__________________________________________________________________________________________________\n",
            "batch_normalization_7 (BatchNor (None, 180, 320, 256 1024        conv2d_7[0][0]                   \n",
            "__________________________________________________________________________________________________\n",
            "activation_1 (Activation)       (None, 180, 320, 256 0           batch_normalization_7[0][0]      \n",
            "__________________________________________________________________________________________________\n",
            "conv2d_8 (Conv2D)               (None, 180, 320, 256 590080      activation_1[0][0]               \n",
            "__________________________________________________________________________________________________\n",
            "batch_normalization_8 (BatchNor (None, 180, 320, 256 1024        conv2d_8[0][0]                   \n",
            "__________________________________________________________________________________________________\n",
            "activation_2 (Activation)       (None, 180, 320, 256 0           batch_normalization_8[0][0]      \n",
            "__________________________________________________________________________________________________\n",
            "conv2d_9 (Conv2D)               (None, 180, 320, 256 590080      activation_2[0][0]               \n",
            "__________________________________________________________________________________________________\n",
            "batch_normalization_9 (BatchNor (None, 180, 320, 256 1024        conv2d_9[0][0]                   \n",
            "__________________________________________________________________________________________________\n",
            "activation_3 (Activation)       (None, 180, 320, 256 0           batch_normalization_9[0][0]      \n",
            "__________________________________________________________________________________________________\n",
            "conv2d_10 (Conv2D)              (None, 180, 320, 256 590080      activation_3[0][0]               \n",
            "__________________________________________________________________________________________________\n",
            "batch_normalization_10 (BatchNo (None, 180, 320, 256 1024        conv2d_10[0][0]                  \n",
            "__________________________________________________________________________________________________\n",
            "max_pooling2d_1 (MaxPooling2D)  (None, 90, 160, 256) 0           batch_normalization_10[0][0]     \n",
            "__________________________________________________________________________________________________\n",
            "conv2d_12 (Conv2D)              (None, 90, 160, 256) 33024       max_pooling2d[0][0]              \n",
            "__________________________________________________________________________________________________\n",
            "conv2d_5 (Conv2D)               (None, 90, 160, 256) 33024       concatenate[0][0]                \n",
            "__________________________________________________________________________________________________\n",
            "tf.__operators__.add_3 (TFOpLam (None, 90, 160, 256) 0           max_pooling2d_1[0][0]            \n",
            "                                                                 conv2d_12[0][0]                  \n",
            "__________________________________________________________________________________________________\n",
            "batch_normalization_5 (BatchNor (None, 90, 160, 256) 1024        conv2d_5[0][0]                   \n",
            "__________________________________________________________________________________________________\n",
            "conv2d_13 (Conv2D)              (None, 90, 160, 256) 65792       tf.__operators__.add_3[0][0]     \n",
            "__________________________________________________________________________________________________\n",
            "tf.__operators__.add_2 (TFOpLam (None, 90, 160, 256) 0           max_pooling2d_1[0][0]            \n",
            "                                                                 batch_normalization_5[0][0]      \n",
            "__________________________________________________________________________________________________\n",
            "batch_normalization_12 (BatchNo (None, 90, 160, 256) 1024        conv2d_13[0][0]                  \n",
            "__________________________________________________________________________________________________\n",
            "tf.__operators__.add_4 (TFOpLam (None, 90, 160, 256) 0           tf.__operators__.add_2[0][0]     \n",
            "                                                                 batch_normalization_12[0][0]     \n",
            "__________________________________________________________________________________________________\n",
            "activation_4 (Activation)       (None, 90, 160, 256) 0           tf.__operators__.add_4[0][0]     \n",
            "__________________________________________________________________________________________________\n",
            "conv2d_14 (Conv2D)              (None, 90, 160, 512) 1180160     activation_4[0][0]               \n",
            "__________________________________________________________________________________________________\n",
            "batch_normalization_13 (BatchNo (None, 90, 160, 512) 2048        conv2d_14[0][0]                  \n",
            "__________________________________________________________________________________________________\n",
            "activation_5 (Activation)       (None, 90, 160, 512) 0           batch_normalization_13[0][0]     \n",
            "__________________________________________________________________________________________________\n",
            "conv2d_15 (Conv2D)              (None, 90, 160, 512) 2359808     activation_5[0][0]               \n",
            "__________________________________________________________________________________________________\n",
            "batch_normalization_14 (BatchNo (None, 90, 160, 512) 2048        conv2d_15[0][0]                  \n",
            "__________________________________________________________________________________________________\n",
            "activation_6 (Activation)       (None, 90, 160, 512) 0           batch_normalization_14[0][0]     \n",
            "__________________________________________________________________________________________________\n",
            "conv2d_16 (Conv2D)              (None, 90, 160, 512) 2359808     activation_6[0][0]               \n",
            "__________________________________________________________________________________________________\n",
            "batch_normalization_15 (BatchNo (None, 90, 160, 512) 2048        conv2d_16[0][0]                  \n",
            "__________________________________________________________________________________________________\n",
            "activation_7 (Activation)       (None, 90, 160, 512) 0           batch_normalization_15[0][0]     \n",
            "__________________________________________________________________________________________________\n",
            "conv2d_17 (Conv2D)              (None, 90, 160, 512) 2359808     activation_7[0][0]               \n",
            "__________________________________________________________________________________________________\n",
            "batch_normalization_16 (BatchNo (None, 90, 160, 512) 2048        conv2d_17[0][0]                  \n",
            "__________________________________________________________________________________________________\n",
            "activation_8 (Activation)       (None, 90, 160, 512) 0           batch_normalization_16[0][0]     \n",
            "__________________________________________________________________________________________________\n",
            "conv2d_18 (Conv2D)              (None, 90, 160, 512) 2359808     activation_8[0][0]               \n",
            "__________________________________________________________________________________________________\n",
            "batch_normalization_17 (BatchNo (None, 90, 160, 512) 2048        conv2d_18[0][0]                  \n",
            "__________________________________________________________________________________________________\n",
            "activation_9 (Activation)       (None, 90, 160, 512) 0           batch_normalization_17[0][0]     \n",
            "__________________________________________________________________________________________________\n",
            "conv2d_19 (Conv2D)              (None, 90, 160, 512) 2359808     activation_9[0][0]               \n",
            "__________________________________________________________________________________________________\n",
            "batch_normalization_18 (BatchNo (None, 90, 160, 512) 2048        conv2d_19[0][0]                  \n",
            "__________________________________________________________________________________________________\n",
            "max_pooling2d_2 (MaxPooling2D)  (None, 45, 80, 512)  0           batch_normalization_18[0][0]     \n",
            "__________________________________________________________________________________________________\n",
            "conv2d_21 (Conv2D)              (None, 45, 80, 512)  131584      conv2d_12[0][0]                  \n",
            "__________________________________________________________________________________________________\n",
            "conv2d_11 (Conv2D)              (None, 45, 80, 512)  131584      tf.__operators__.add_2[0][0]     \n",
            "__________________________________________________________________________________________________\n",
            "tf.__operators__.add_6 (TFOpLam (None, 45, 80, 512)  0           max_pooling2d_2[0][0]            \n",
            "                                                                 conv2d_21[0][0]                  \n",
            "__________________________________________________________________________________________________\n",
            "batch_normalization_11 (BatchNo (None, 45, 80, 512)  2048        conv2d_11[0][0]                  \n",
            "__________________________________________________________________________________________________\n",
            "conv2d_22 (Conv2D)              (None, 45, 80, 512)  262656      tf.__operators__.add_6[0][0]     \n",
            "__________________________________________________________________________________________________\n",
            "tf.__operators__.add_5 (TFOpLam (None, 45, 80, 512)  0           max_pooling2d_2[0][0]            \n",
            "                                                                 batch_normalization_11[0][0]     \n",
            "__________________________________________________________________________________________________\n",
            "batch_normalization_20 (BatchNo (None, 45, 80, 512)  2048        conv2d_22[0][0]                  \n",
            "__________________________________________________________________________________________________\n",
            "tf.__operators__.add_7 (TFOpLam (None, 45, 80, 512)  0           tf.__operators__.add_5[0][0]     \n",
            "                                                                 batch_normalization_20[0][0]     \n",
            "__________________________________________________________________________________________________\n",
            "activation_10 (Activation)      (None, 45, 80, 512)  0           tf.__operators__.add_7[0][0]     \n",
            "__________________________________________________________________________________________________\n",
            "conv2d_23 (Conv2D)              (None, 45, 80, 512)  2359808     activation_10[0][0]              \n",
            "__________________________________________________________________________________________________\n",
            "batch_normalization_21 (BatchNo (None, 45, 80, 512)  2048        conv2d_23[0][0]                  \n",
            "__________________________________________________________________________________________________\n",
            "activation_11 (Activation)      (None, 45, 80, 512)  0           batch_normalization_21[0][0]     \n",
            "__________________________________________________________________________________________________\n",
            "conv2d_24 (Conv2D)              (None, 45, 80, 512)  2359808     activation_11[0][0]              \n",
            "__________________________________________________________________________________________________\n",
            "batch_normalization_22 (BatchNo (None, 45, 80, 512)  2048        conv2d_24[0][0]                  \n",
            "__________________________________________________________________________________________________\n",
            "activation_12 (Activation)      (None, 45, 80, 512)  0           batch_normalization_22[0][0]     \n",
            "__________________________________________________________________________________________________\n",
            "conv2d_25 (Conv2D)              (None, 45, 80, 512)  2359808     activation_12[0][0]              \n",
            "__________________________________________________________________________________________________\n",
            "batch_normalization_23 (BatchNo (None, 45, 80, 512)  2048        conv2d_25[0][0]                  \n",
            "__________________________________________________________________________________________________\n",
            "activation_13 (Activation)      (None, 45, 80, 512)  0           batch_normalization_23[0][0]     \n",
            "__________________________________________________________________________________________________\n",
            "conv2d_26 (Conv2D)              (None, 45, 80, 512)  2359808     activation_13[0][0]              \n",
            "__________________________________________________________________________________________________\n",
            "batch_normalization_24 (BatchNo (None, 45, 80, 512)  2048        conv2d_26[0][0]                  \n",
            "__________________________________________________________________________________________________\n",
            "activation_14 (Activation)      (None, 45, 80, 512)  0           batch_normalization_24[0][0]     \n",
            "__________________________________________________________________________________________________\n",
            "conv2d_27 (Conv2D)              (None, 45, 80, 512)  2359808     activation_14[0][0]              \n",
            "__________________________________________________________________________________________________\n",
            "batch_normalization_25 (BatchNo (None, 45, 80, 512)  2048        conv2d_27[0][0]                  \n",
            "__________________________________________________________________________________________________\n",
            "activation_15 (Activation)      (None, 45, 80, 512)  0           batch_normalization_25[0][0]     \n",
            "__________________________________________________________________________________________________\n",
            "conv2d_28 (Conv2D)              (None, 45, 80, 512)  2359808     activation_15[0][0]              \n",
            "__________________________________________________________________________________________________\n",
            "batch_normalization_26 (BatchNo (None, 45, 80, 512)  2048        conv2d_28[0][0]                  \n",
            "__________________________________________________________________________________________________\n",
            "conv2d_20 (Conv2D)              (None, 45, 80, 512)  262656      tf.__operators__.add_5[0][0]     \n",
            "__________________________________________________________________________________________________\n",
            "batch_normalization_19 (BatchNo (None, 45, 80, 512)  2048        conv2d_20[0][0]                  \n",
            "__________________________________________________________________________________________________\n",
            "conv2d_29 (Conv2D)              (None, 45, 80, 512)  262656      batch_normalization_26[0][0]     \n",
            "__________________________________________________________________________________________________\n",
            "tf.__operators__.add_8 (TFOpLam (None, 45, 80, 512)  0           batch_normalization_26[0][0]     \n",
            "                                                                 batch_normalization_19[0][0]     \n",
            "__________________________________________________________________________________________________\n",
            "batch_normalization_27 (BatchNo (None, 45, 80, 512)  2048        conv2d_29[0][0]                  \n",
            "__________________________________________________________________________________________________\n",
            "tf.__operators__.add_9 (TFOpLam (None, 45, 80, 512)  0           tf.__operators__.add_8[0][0]     \n",
            "                                                                 batch_normalization_27[0][0]     \n",
            "__________________________________________________________________________________________________\n",
            "activation_16 (Activation)      (None, 45, 80, 512)  0           tf.__operators__.add_9[0][0]     \n",
            "__________________________________________________________________________________________________\n",
            "conv2d_30 (Conv2D)              (None, 45, 80, 256)  1179904     activation_16[0][0]              \n",
            "__________________________________________________________________________________________________\n",
            "batch_normalization_28 (BatchNo (None, 45, 80, 256)  1024        conv2d_30[0][0]                  \n",
            "__________________________________________________________________________________________________\n",
            "activation_17 (Activation)      (None, 45, 80, 256)  0           batch_normalization_28[0][0]     \n",
            "__________________________________________________________________________________________________\n",
            "conv2d_31 (Conv2D)              (None, 45, 80, 256)  590080      activation_17[0][0]              \n",
            "__________________________________________________________________________________________________\n",
            "batch_normalization_29 (BatchNo (None, 45, 80, 256)  1024        conv2d_31[0][0]                  \n",
            "__________________________________________________________________________________________________\n",
            "activation_18 (Activation)      (None, 45, 80, 256)  0           batch_normalization_29[0][0]     \n",
            "__________________________________________________________________________________________________\n",
            "conv2d_32 (Conv2D)              (None, 45, 80, 256)  590080      activation_18[0][0]              \n",
            "__________________________________________________________________________________________________\n",
            "batch_normalization_30 (BatchNo (None, 45, 80, 256)  1024        conv2d_32[0][0]                  \n",
            "__________________________________________________________________________________________________\n",
            "activation_19 (Activation)      (None, 45, 80, 256)  0           batch_normalization_30[0][0]     \n",
            "__________________________________________________________________________________________________\n",
            "conv2d_33 (Conv2D)              (None, 45, 80, 256)  590080      activation_19[0][0]              \n",
            "__________________________________________________________________________________________________\n",
            "batch_normalization_31 (BatchNo (None, 45, 80, 256)  1024        conv2d_33[0][0]                  \n",
            "__________________________________________________________________________________________________\n",
            "activation_20 (Activation)      (None, 45, 80, 256)  0           batch_normalization_31[0][0]     \n",
            "__________________________________________________________________________________________________\n",
            "conv2d_34 (Conv2D)              (None, 45, 80, 256)  590080      activation_20[0][0]              \n",
            "__________________________________________________________________________________________________\n",
            "batch_normalization_32 (BatchNo (None, 45, 80, 256)  1024        conv2d_34[0][0]                  \n",
            "__________________________________________________________________________________________________\n",
            "activation_21 (Activation)      (None, 45, 80, 256)  0           batch_normalization_32[0][0]     \n",
            "__________________________________________________________________________________________________\n",
            "conv2d_35 (Conv2D)              (None, 45, 80, 256)  590080      activation_21[0][0]              \n",
            "__________________________________________________________________________________________________\n",
            "batch_normalization_33 (BatchNo (None, 45, 80, 256)  1024        conv2d_35[0][0]                  \n",
            "__________________________________________________________________________________________________\n",
            "conv2d_44 (Conv2D)              (None, 45, 80, 16)   8208        batch_normalization_26[0][0]     \n",
            "__________________________________________________________________________________________________\n",
            "conv2d_48 (Conv2D)              (None, 45, 80, 16)   4112        batch_normalization_33[0][0]     \n",
            "__________________________________________________________________________________________________\n",
            "conv2d_transpose_8 (Conv2DTrans (None, 90, 160, 16)  65552       conv2d_44[0][0]                  \n",
            "__________________________________________________________________________________________________\n",
            "conv2d_transpose_12 (Conv2DTran (None, 90, 160, 16)  65552       conv2d_48[0][0]                  \n",
            "__________________________________________________________________________________________________\n",
            "conv2d_41 (Conv2D)              (None, 90, 160, 16)  8208        batch_normalization_18[0][0]     \n",
            "__________________________________________________________________________________________________\n",
            "conv2d_45 (Conv2D)              (None, 90, 160, 16)  272         conv2d_transpose_8[0][0]         \n",
            "__________________________________________________________________________________________________\n",
            "conv2d_49 (Conv2D)              (None, 90, 160, 16)  272         conv2d_transpose_12[0][0]        \n",
            "__________________________________________________________________________________________________\n",
            "conv2d_transpose_5 (Conv2DTrans (None, 180, 320, 16) 16400       conv2d_41[0][0]                  \n",
            "__________________________________________________________________________________________________\n",
            "conv2d_transpose_9 (Conv2DTrans (None, 180, 320, 16) 65552       conv2d_45[0][0]                  \n",
            "__________________________________________________________________________________________________\n",
            "conv2d_transpose_13 (Conv2DTran (None, 180, 320, 16) 65552       conv2d_49[0][0]                  \n",
            "__________________________________________________________________________________________________\n",
            "conv2d_37 (Conv2D)              (None, 180, 320, 16) 2064        max_pooling2d[0][0]              \n",
            "__________________________________________________________________________________________________\n",
            "conv2d_39 (Conv2D)              (None, 180, 320, 16) 4112        batch_normalization_10[0][0]     \n",
            "__________________________________________________________________________________________________\n",
            "conv2d_42 (Conv2D)              (None, 180, 320, 16) 272         conv2d_transpose_5[0][0]         \n",
            "__________________________________________________________________________________________________\n",
            "conv2d_46 (Conv2D)              (None, 180, 320, 16) 272         conv2d_transpose_9[0][0]         \n",
            "__________________________________________________________________________________________________\n",
            "conv2d_50 (Conv2D)              (None, 180, 320, 16) 272         conv2d_transpose_13[0][0]        \n",
            "__________________________________________________________________________________________________\n",
            "conv2d_transpose_1 (Conv2DTrans (None, 360, 640, 16) 4112        conv2d_37[0][0]                  \n",
            "__________________________________________________________________________________________________\n",
            "conv2d_transpose_3 (Conv2DTrans (None, 360, 640, 16) 4112        conv2d_39[0][0]                  \n",
            "__________________________________________________________________________________________________\n",
            "conv2d_transpose_6 (Conv2DTrans (None, 360, 640, 16) 16400       conv2d_42[0][0]                  \n",
            "__________________________________________________________________________________________________\n",
            "conv2d_transpose_10 (Conv2DTran (None, 360, 640, 16) 65552       conv2d_46[0][0]                  \n",
            "__________________________________________________________________________________________________\n",
            "conv2d_transpose_14 (Conv2DTran (None, 360, 640, 16) 65552       conv2d_50[0][0]                  \n",
            "__________________________________________________________________________________________________\n",
            "conv2d_36 (Conv2D)              (None, 360, 640, 1)  65          batch_normalization_1[0][0]      \n",
            "__________________________________________________________________________________________________\n",
            "conv2d_38 (Conv2D)              (None, 360, 640, 1)  17          conv2d_transpose_1[0][0]         \n",
            "__________________________________________________________________________________________________\n",
            "conv2d_40 (Conv2D)              (None, 360, 640, 1)  17          conv2d_transpose_3[0][0]         \n",
            "__________________________________________________________________________________________________\n",
            "conv2d_43 (Conv2D)              (None, 360, 640, 1)  17          conv2d_transpose_6[0][0]         \n",
            "__________________________________________________________________________________________________\n",
            "conv2d_47 (Conv2D)              (None, 360, 640, 1)  17          conv2d_transpose_10[0][0]        \n",
            "__________________________________________________________________________________________________\n",
            "conv2d_51 (Conv2D)              (None, 360, 640, 1)  17          conv2d_transpose_14[0][0]        \n",
            "__________________________________________________________________________________________________\n",
            "conv2d_transpose (Conv2DTranspo (None, 720, 1280, 1) 5           conv2d_36[0][0]                  \n",
            "__________________________________________________________________________________________________\n",
            "conv2d_transpose_2 (Conv2DTrans (None, 720, 1280, 1) 17          conv2d_38[0][0]                  \n",
            "__________________________________________________________________________________________________\n",
            "conv2d_transpose_4 (Conv2DTrans (None, 720, 1280, 1) 17          conv2d_40[0][0]                  \n",
            "__________________________________________________________________________________________________\n",
            "conv2d_transpose_7 (Conv2DTrans (None, 720, 1280, 1) 65          conv2d_43[0][0]                  \n",
            "__________________________________________________________________________________________________\n",
            "conv2d_transpose_11 (Conv2DTran (None, 720, 1280, 1) 257         conv2d_47[0][0]                  \n",
            "__________________________________________________________________________________________________\n",
            "conv2d_transpose_15 (Conv2DTran (None, 720, 1280, 1) 257         conv2d_51[0][0]                  \n",
            "__________________________________________________________________________________________________\n",
            "concatenate_1 (Concatenate)     (None, 720, 1280, 6) 0           conv2d_transpose[0][0]           \n",
            "                                                                 conv2d_transpose_2[0][0]         \n",
            "                                                                 conv2d_transpose_4[0][0]         \n",
            "                                                                 conv2d_transpose_7[0][0]         \n",
            "                                                                 conv2d_transpose_11[0][0]        \n",
            "                                                                 conv2d_transpose_15[0][0]        \n",
            "__________________________________________________________________________________________________\n",
            "conv2d_52 (Conv2D)              (None, 720, 1280, 3) 21          concatenate_1[0][0]              \n",
            "__________________________________________________________________________________________________\n",
            "batch_normalization_34 (BatchNo (None, 720, 1280, 3) 12          conv2d_52[0][0]                  \n",
            "__________________________________________________________________________________________________\n",
            "concatenate_2 (Concatenate)     (None, 720, 1280, 9) 0           concatenate_1[0][0]              \n",
            "                                                                 batch_normalization_34[0][0]     \n",
            "__________________________________________________________________________________________________\n",
            "conv2d_53 (Conv2D)              (None, 720, 1280, 1) 82          concatenate_2[0][0]              \n",
            "__________________________________________________________________________________________________\n",
            "activation_22 (Activation)      (None, 720, 1280, 1) 0           conv2d_53[0][0]                  \n",
            "==================================================================================================\n",
            "Total params: 35,293,171\n",
            "Trainable params: 35,269,421\n",
            "Non-trainable params: 23,750\n",
            "__________________________________________________________________________________________________\n"
          ],
          "name": "stdout"
        }
      ]
    },
    {
      "cell_type": "code",
      "metadata": {
        "id": "73b8ee3a-3e03-4679-b4ea-71da211bd1be"
      },
      "source": [
        "model.compile(\n",
        "    loss=\"binary_crossentropy\", \n",
        "    optimizer=\"adam\", \n",
        "    metrics=[tf.keras.metrics.BinaryAccuracy(), \n",
        "             tf.keras.metrics.FalseNegatives(), \n",
        "             tf.keras.metrics.FalsePositives(), \n",
        "             tf.keras.metrics.TruePositives(), \n",
        "             tf.keras.metrics.TrueNegatives()])"
      ],
      "id": "73b8ee3a-3e03-4679-b4ea-71da211bd1be",
      "execution_count": 63,
      "outputs": []
    },
    {
      "cell_type": "code",
      "metadata": {
        "id": "655646ce-3b24-4fb6-b816-31f1a128af72",
        "colab": {
          "base_uri": "https://localhost:8080/"
        },
        "outputId": "6c75b54c-4f71-49d2-e3f4-4650af40b92b"
      },
      "source": [
        "train_steps=len(train_data)\n",
        "val_steps=len(test_data)\n",
        "print(train_steps)\n",
        "model.fit(train_data, validation_data=test_data, epochs=20, steps_per_epoch=train_steps, validation_steps=val_steps)"
      ],
      "id": "655646ce-3b24-4fb6-b816-31f1a128af72",
      "execution_count": 64,
      "outputs": [
        {
          "output_type": "stream",
          "text": [
            "200\n",
            "Epoch 1/20\n",
            "200/200 [==============================] - 146s 697ms/step - loss: 0.1815 - binary_accuracy: 0.9697 - false_negatives_1: 5318489.0000 - false_positives_1: 274404.0000 - true_positives_1: 92265.0000 - true_negatives_1: 178634848.0000 - val_loss: 0.2168 - val_binary_accuracy: 0.9674 - val_false_negatives_1: 1501545.0000 - val_false_positives_1: 14.0000 - val_true_positives_1: 10.0000 - val_true_negatives_1: 44578440.0000\n",
            "Epoch 2/20\n",
            "200/200 [==============================] - 137s 687ms/step - loss: 0.1534 - binary_accuracy: 0.9696 - false_negatives_1: 5331454.0000 - false_positives_1: 272649.0000 - true_positives_1: 79300.0000 - true_negatives_1: 178636560.0000 - val_loss: 0.1473 - val_binary_accuracy: 0.9673 - val_false_negatives_1: 1500514.0000 - val_false_positives_1: 5715.0000 - val_true_positives_1: 1041.0000 - val_true_negatives_1: 44572732.0000\n",
            "Epoch 3/20\n",
            "200/200 [==============================] - 138s 688ms/step - loss: 0.1355 - binary_accuracy: 0.9696 - false_negatives_1: 5339284.0000 - false_positives_1: 265519.0000 - true_positives_1: 71470.0000 - true_negatives_1: 178643744.0000 - val_loss: 0.1512 - val_binary_accuracy: 0.9672 - val_false_negatives_1: 1495644.0000 - val_false_positives_1: 16370.0000 - val_true_positives_1: 5911.0000 - val_true_negatives_1: 44562080.0000\n",
            "Epoch 4/20\n",
            "200/200 [==============================] - 137s 688ms/step - loss: 0.1274 - binary_accuracy: 0.9696 - false_negatives_1: 5331637.0000 - false_positives_1: 276718.0000 - true_positives_1: 79117.0000 - true_negatives_1: 178632576.0000 - val_loss: 0.1378 - val_binary_accuracy: 0.9672 - val_false_negatives_1: 1494882.0000 - val_false_positives_1: 17394.0000 - val_true_positives_1: 6673.0000 - val_true_negatives_1: 44561048.0000\n",
            "Epoch 5/20\n",
            "200/200 [==============================] - 137s 687ms/step - loss: 0.1256 - binary_accuracy: 0.9696 - false_negatives_1: 5333805.0000 - false_positives_1: 266333.0000 - true_positives_1: 76949.0000 - true_negatives_1: 178642976.0000 - val_loss: 0.1370 - val_binary_accuracy: 0.9673 - val_false_negatives_1: 1497612.0000 - val_false_positives_1: 9542.0000 - val_true_positives_1: 3943.0000 - val_true_negatives_1: 44568896.0000\n",
            "Epoch 6/20\n",
            "200/200 [==============================] - 136s 681ms/step - loss: 0.1226 - binary_accuracy: 0.9696 - false_negatives_1: 5336746.0000 - false_positives_1: 263136.0000 - true_positives_1: 74008.0000 - true_negatives_1: 178646112.0000 - val_loss: 0.1917 - val_binary_accuracy: 0.9616 - val_false_negatives_1: 1367860.0000 - val_false_positives_1: 402925.0000 - val_true_positives_1: 133695.0000 - val_true_negatives_1: 44175524.0000\n",
            "Epoch 7/20\n",
            "200/200 [==============================] - 130s 649ms/step - loss: 0.1228 - binary_accuracy: 0.9696 - false_negatives_1: 5336573.0000 - false_positives_1: 261919.0000 - true_positives_1: 74181.0000 - true_negatives_1: 178647360.0000 - val_loss: 0.1349 - val_binary_accuracy: 0.9671 - val_false_negatives_1: 1490677.0000 - val_false_positives_1: 23319.0000 - val_true_positives_1: 10878.0000 - val_true_negatives_1: 44555124.0000\n",
            "Epoch 8/20\n",
            "200/200 [==============================] - 127s 636ms/step - loss: 0.1217 - binary_accuracy: 0.9696 - false_negatives_1: 5330183.0000 - false_positives_1: 277343.0000 - true_positives_1: 80571.0000 - true_negatives_1: 178631872.0000 - val_loss: 0.1477 - val_binary_accuracy: 0.9670 - val_false_negatives_1: 1483498.0000 - val_false_positives_1: 39384.0000 - val_true_positives_1: 18057.0000 - val_true_negatives_1: 44539068.0000\n",
            "Epoch 9/20\n",
            "200/200 [==============================] - 127s 633ms/step - loss: 0.1210 - binary_accuracy: 0.9696 - false_negatives_1: 5334616.0000 - false_positives_1: 260659.0000 - true_positives_1: 76138.0000 - true_negatives_1: 178648672.0000 - val_loss: 0.1341 - val_binary_accuracy: 0.9671 - val_false_negatives_1: 1489366.0000 - val_false_positives_1: 25764.0000 - val_true_positives_1: 12189.0000 - val_true_negatives_1: 44552676.0000\n",
            "Epoch 10/20\n",
            "200/200 [==============================] - 127s 633ms/step - loss: 0.1209 - binary_accuracy: 0.9697 - false_negatives_1: 5333750.0000 - false_positives_1: 258999.0000 - true_positives_1: 77004.0000 - true_negatives_1: 178650240.0000 - val_loss: 0.1374 - val_binary_accuracy: 0.9672 - val_false_negatives_1: 1494605.0000 - val_false_positives_1: 16683.0000 - val_true_positives_1: 6950.0000 - val_true_negatives_1: 44561776.0000\n",
            "Epoch 11/20\n",
            "200/200 [==============================] - 127s 633ms/step - loss: 0.1206 - binary_accuracy: 0.9697 - false_negatives_1: 5332225.0000 - false_positives_1: 255164.0000 - true_positives_1: 78529.0000 - true_negatives_1: 178654048.0000 - val_loss: 0.1357 - val_binary_accuracy: 0.9664 - val_false_negatives_1: 1481872.0000 - val_false_positives_1: 66629.0000 - val_true_positives_1: 19683.0000 - val_true_negatives_1: 44511816.0000\n",
            "Epoch 12/20\n",
            "200/200 [==============================] - 126s 629ms/step - loss: 0.1208 - binary_accuracy: 0.9696 - false_negatives_1: 5331832.0000 - false_positives_1: 264094.0000 - true_positives_1: 78922.0000 - true_negatives_1: 178645120.0000 - val_loss: 0.1349 - val_binary_accuracy: 0.9673 - val_false_negatives_1: 1496519.0000 - val_false_positives_1: 10562.0000 - val_true_positives_1: 5036.0000 - val_true_negatives_1: 44567884.0000\n",
            "Epoch 13/20\n",
            "200/200 [==============================] - 126s 628ms/step - loss: 0.1207 - binary_accuracy: 0.9696 - false_negatives_1: 5333870.0000 - false_positives_1: 261677.0000 - true_positives_1: 76884.0000 - true_negatives_1: 178647536.0000 - val_loss: 0.1522 - val_binary_accuracy: 0.9674 - val_false_negatives_1: 1499481.0000 - val_false_positives_1: 4607.0000 - val_true_positives_1: 2074.0000 - val_true_negatives_1: 44573840.0000\n",
            "Epoch 14/20\n",
            "200/200 [==============================] - 126s 631ms/step - loss: 0.1207 - binary_accuracy: 0.9697 - false_negatives_1: 5333838.0000 - false_positives_1: 259568.0000 - true_positives_1: 76916.0000 - true_negatives_1: 178649728.0000 - val_loss: 0.1400 - val_binary_accuracy: 0.9649 - val_false_negatives_1: 1428511.0000 - val_false_positives_1: 190134.0000 - val_true_positives_1: 73044.0000 - val_true_negatives_1: 44388304.0000\n",
            "Epoch 15/20\n",
            "200/200 [==============================] - 126s 630ms/step - loss: 0.1206 - binary_accuracy: 0.9696 - false_negatives_1: 5334731.0000 - false_positives_1: 262219.0000 - true_positives_1: 76023.0000 - true_negatives_1: 178647056.0000 - val_loss: 0.1702 - val_binary_accuracy: 0.9585 - val_false_negatives_1: 1371550.0000 - val_false_positives_1: 538735.0000 - val_true_positives_1: 130005.0000 - val_true_negatives_1: 44039708.0000\n",
            "Epoch 16/20\n",
            "200/200 [==============================] - 126s 629ms/step - loss: 0.1207 - binary_accuracy: 0.9696 - false_negatives_1: 5333546.0000 - false_positives_1: 265797.0000 - true_positives_1: 77208.0000 - true_negatives_1: 178643408.0000 - val_loss: 0.1342 - val_binary_accuracy: 0.9673 - val_false_negatives_1: 1495580.0000 - val_false_positives_1: 12567.0000 - val_true_positives_1: 5975.0000 - val_true_negatives_1: 44565876.0000\n",
            "Epoch 17/20\n",
            "200/200 [==============================] - 126s 629ms/step - loss: 0.1205 - binary_accuracy: 0.9696 - false_negatives_1: 5330890.0000 - false_positives_1: 266266.0000 - true_positives_1: 79864.0000 - true_negatives_1: 178643040.0000 - val_loss: 0.1394 - val_binary_accuracy: 0.9651 - val_false_negatives_1: 1432289.0000 - val_false_positives_1: 174193.0000 - val_true_positives_1: 69266.0000 - val_true_negatives_1: 44404264.0000\n",
            "Epoch 18/20\n",
            "200/200 [==============================] - 126s 629ms/step - loss: 0.1207 - binary_accuracy: 0.9696 - false_negatives_1: 5333597.0000 - false_positives_1: 263973.0000 - true_positives_1: 77157.0000 - true_negatives_1: 178645344.0000 - val_loss: 0.1727 - val_binary_accuracy: 0.9637 - val_false_negatives_1: 1396218.0000 - val_false_positives_1: 278388.0000 - val_true_positives_1: 105337.0000 - val_true_negatives_1: 44300056.0000\n",
            "Epoch 19/20\n",
            "200/200 [==============================] - 126s 630ms/step - loss: 0.1204 - binary_accuracy: 0.9696 - false_negatives_1: 5331932.0000 - false_positives_1: 271547.0000 - true_positives_1: 78822.0000 - true_negatives_1: 178637776.0000 - val_loss: 0.1308 - val_binary_accuracy: 0.9671 - val_false_negatives_1: 1493516.0000 - val_false_positives_1: 20990.0000 - val_true_positives_1: 8039.0000 - val_true_negatives_1: 44557464.0000\n",
            "Epoch 20/20\n",
            "200/200 [==============================] - 126s 628ms/step - loss: 0.1207 - binary_accuracy: 0.9697 - false_negatives_1: 5336475.0000 - false_positives_1: 253738.0000 - true_positives_1: 74279.0000 - true_negatives_1: 178655472.0000 - val_loss: 0.1537 - val_binary_accuracy: 0.9638 - val_false_negatives_1: 1403322.0000 - val_false_positives_1: 264593.0000 - val_true_positives_1: 98233.0000 - val_true_negatives_1: 44313856.0000\n"
          ],
          "name": "stdout"
        },
        {
          "output_type": "execute_result",
          "data": {
            "text/plain": [
              "<tensorflow.python.keras.callbacks.History at 0x7f4daedc3610>"
            ]
          },
          "metadata": {
            "tags": []
          },
          "execution_count": 64
        }
      ]
    },
    {
      "cell_type": "code",
      "metadata": {
        "id": "47948f01-dda4-44f3-88ec-958db390b3a2"
      },
      "source": [
        "model.save('./DexiNed.h5')"
      ],
      "id": "47948f01-dda4-44f3-88ec-958db390b3a2",
      "execution_count": 65,
      "outputs": []
    },
    {
      "cell_type": "code",
      "metadata": {
        "id": "ynBvCPwFJ5nt"
      },
      "source": [
        "img = read_image('./BIPED/edges/edge_maps/test/rgbr/RGB_008.png')\n",
        "img = np.expand_dims(img, axis=0)"
      ],
      "id": "ynBvCPwFJ5nt",
      "execution_count": 66,
      "outputs": []
    },
    {
      "cell_type": "code",
      "metadata": {
        "id": "d7rOHFJ1KJEq"
      },
      "source": [
        "res = model.predict(img)"
      ],
      "id": "d7rOHFJ1KJEq",
      "execution_count": 74,
      "outputs": []
    },
    {
      "cell_type": "code",
      "metadata": {
        "colab": {
          "base_uri": "https://localhost:8080/"
        },
        "id": "kIL32ciDK68k",
        "outputId": "1e1980b7-70d5-4a37-e24b-ab7f8a8d2d5d"
      },
      "source": [
        "print(res.shape)\n",
        "res = res[-1,:,:]\n",
        "print(res.shape)"
      ],
      "id": "kIL32ciDK68k",
      "execution_count": 75,
      "outputs": [
        {
          "output_type": "stream",
          "text": [
            "(1, 720, 1280, 1)\n",
            "(720, 1280, 1)\n"
          ],
          "name": "stdout"
        }
      ]
    },
    {
      "cell_type": "code",
      "metadata": {
        "colab": {
          "base_uri": "https://localhost:8080/"
        },
        "id": "-O_9GA9rhKtW",
        "outputId": "c4187cd7-4653-4d79-c191-bf91cc63dc6e"
      },
      "source": [
        "res = res[:,:,-1]\n",
        "print(res.shape)"
      ],
      "id": "-O_9GA9rhKtW",
      "execution_count": 76,
      "outputs": [
        {
          "output_type": "stream",
          "text": [
            "(720, 1280)\n"
          ],
          "name": "stdout"
        }
      ]
    },
    {
      "cell_type": "code",
      "metadata": {
        "colab": {
          "base_uri": "https://localhost:8080/",
          "height": 240
        },
        "id": "4jYS-TdYLyTP",
        "outputId": "65598c66-94fd-44da-a347-811f115f0751"
      },
      "source": [
        "plt.imshow(res, cmap=\"gray\")\n",
        "plt.show()"
      ],
      "id": "4jYS-TdYLyTP",
      "execution_count": 77,
      "outputs": [
        {
          "output_type": "display_data",
          "data": {
            "image/png": "[encoded data removed]",
            "text/plain": [
              "<Figure size 432x288 with 1 Axes>"
            ]
          },
          "metadata": {
            "tags": [],
            "needs_background": "light"
          }
        }
      ]
    },
    {
      "cell_type": "code",
      "metadata": {
        "colab": {
          "base_uri": "https://localhost:8080/",
          "height": 257
        },
        "id": "YnbMKuCkNdMG",
        "outputId": "776afb43-88c3-48f1-e23c-49a43fc122b3"
      },
      "source": [
        "img = read_image('./BIPED/edges/edge_maps/test/rgbr/RGB_008.png')\n",
        "plt.imshow(img)"
      ],
      "id": "YnbMKuCkNdMG",
      "execution_count": 78,
      "outputs": [
        {
          "output_type": "execute_result",
          "data": {
            "text/plain": [
              "<matplotlib.image.AxesImage at 0x7f4da0166090>"
            ]
          },
          "metadata": {
            "tags": []
          },
          "execution_count": 78
        },
        {
          "output_type": "display_data",
          "data": {
            "image/png": "[encoded data removed]",
            "text/plain": [
              "<Figure size 432x288 with 1 Axes>"
            ]
          },
          "metadata": {
            "tags": [],
            "needs_background": "light"
          }
        }
      ]
    },
    {
      "cell_type": "code",
      "metadata": {
        "id": "_ectW5AWOqJg"
      },
      "source": [
        ""
      ],
      "id": "_ectW5AWOqJg",
      "execution_count": null,
      "outputs": []
    }
  ]
}