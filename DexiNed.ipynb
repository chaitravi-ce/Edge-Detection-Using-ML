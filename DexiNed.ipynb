{
 "cells": [
  {
   "cell_type": "code",
   "execution_count": null,
   "id": "55032356-e37c-4e55-bf3a-131bbc054110",
   "metadata": {},
   "outputs": [],
   "source": [
    "import tensorflow as tf\n",
    "from tensorflow import keras\n",
    "import numpy as np\n",
    "import matplotlib.pyplot as plt\n",
    "import cv2\n",
    "import os\n",
    "print(tf.__version__)\n",
    "\n",
    "from tensorflow.keras import regularizers\n",
    "from tensorflow.keras.layers import Input, Conv2D, BatchNormalization, Activation, MaxPool2D, UpSampling2D, Concatenate, Conv2DTranspose\n",
    "from tensorflow.keras.models import Model\n",
    "from tensorflow.keras.callbacks import ModelCheckpoint, ReduceLROnPlateau, EarlyStopping\n",
    "from tensorflow.keras.metrics import Recall, Precision\n",
    "from tensorflow.keras import backend as K"
   ]
  },
  {
   "cell_type": "code",
   "execution_count": null,
   "id": "650fd679-a33f-466e-a104-eb82e4760325",
   "metadata": {},
   "outputs": [],
   "source": [
    "train_path = \"./BIPED/edges/imgs/train/rgbr/real/\"\n",
    "test_path = \"./BIPED/edges/edge_maps/train/rgbr/real/\"\n",
    "edge_train_path = \"./BIPED/edges/imgs/test/rgbr/\"\n",
    "edge_test_path = \"./BIPED/edges/edge_maps/test/rgbr/\"\n",
    "\n",
    "train_ids = next(os.walk(train_path))[2]\n",
    "test_ids = next(os.walk(test_path))[2]\n",
    "edge_train_ids = next(os.walk(edge_train_path))[2]\n",
    "edge_test_ids = next(os.walk(edge_test_path))[2]\n",
    "\n",
    "print(len(train_ids))\n",
    "print(len(test_ids))\n",
    "print(len(edge_train_ids))\n",
    "print(len(edge_test_ids))"
   ]
  },
  {
   "cell_type": "code",
   "execution_count": null,
   "id": "fa803ff3-26f3-40d5-bcf9-373edb299c21",
   "metadata": {},
   "outputs": [],
   "source": [
    "images = [os.path.join(train_path, f\"{name}\") for name in train_ids]\n",
    "edges = [os.path.join(test_path, f\"{name}\") for name in test_ids]\n",
    "\n",
    "test_images = [os.path.join(edge_train_path, f\"{name}\") for name in edge_train_ids]\n",
    "test_edges = [os.path.join(edge_test_path, f\"{name}\") for name in edge_test_ids]"
   ]
  },
  {
   "cell_type": "code",
   "execution_count": null,
   "id": "f151eff6-a91e-4687-933f-c3d5ec6a7e87",
   "metadata": {},
   "outputs": [],
   "source": [
    "print(len(images), len(edges), len(test_images), len(test_edges))"
   ]
  },
  {
   "cell_type": "code",
   "execution_count": null,
   "id": "2fba95f6-31b2-4415-a960-ac9d9045ec4d",
   "metadata": {},
   "outputs": [],
   "source": [
    "for i in range (1,15):\n",
    "    print(images[i], edges[i])"
   ]
  },
  {
   "cell_type": "code",
   "execution_count": null,
   "id": "18dfb408-2732-4852-9ae7-f601670f0ab5",
   "metadata": {},
   "outputs": [],
   "source": [
    "img = cv2.imread(edges[i])\n",
    "print(img.shape)"
   ]
  },
  {
   "cell_type": "code",
   "execution_count": null,
   "id": "1f4b7b13-ac48-4421-b9e9-b5d93e38e24c",
   "metadata": {},
   "outputs": [],
   "source": [
    "def read_image(x, H=720, W=1280):\n",
    "    x = np.array2string(x)\n",
    "    print(\"Image: \",type(x))\n",
    "    x = cv2.imread(x, cv2.IMREAD_COLOR)\n",
    "    print(x, end=\"\\n\")\n",
    "    x = cv2.resize(x, (H, W))\n",
    "    x = x/255.0\n",
    "    x = x.astype(np.float32)\n",
    "    return x"
   ]
  },
  {
   "cell_type": "code",
   "execution_count": null,
   "id": "8fadbb70-44dc-4a66-9fc5-b1631604396f",
   "metadata": {},
   "outputs": [],
   "source": [
    "import base64\n",
    "def preprocess(x, y, H=720, W=1280):\n",
    "    \n",
    "    def f(x, y):\n",
    "#         x = np.array_str(x)\n",
    "#         y = np.array_str(y)\n",
    "        x = x.astype('str')\n",
    "        y = y.astype('str')\n",
    "        print(\"Preprocess : \", type(x))\n",
    "        image = read_image(x)\n",
    "        edge = read_image(y)\n",
    "        return image, edge\n",
    "    \n",
    "    image, edge = tf.numpy_function(f, [x,y], [tf.float32, tf.float32])\n",
    "    image.set_shape([H, W, 3])\n",
    "    edge.set_shape([H, W, 3])\n",
    "    return image, edge"
   ]
  },
  {
   "cell_type": "code",
   "execution_count": null,
   "id": "6832e371-5e44-406a-848a-80f9573f6fc7",
   "metadata": {},
   "outputs": [],
   "source": [
    "def tfDataset(x, y, batch_size = 8):\n",
    "    \n",
    "    data = tf.data.Dataset.from_tensors((x,y))\n",
    "    data = data.map(preprocess)\n",
    "    data = data.batch(batch_size)\n",
    "    #data = data.repeat(len(train_data))\n",
    "    data = data.prefetch(2)\n",
    "    \n",
    "    return data"
   ]
  },
  {
   "cell_type": "code",
   "execution_count": null,
   "id": "dffb040e-1466-4a0d-be1f-6be8ca8dcba9",
   "metadata": {},
   "outputs": [],
   "source": [
    "train_data = tfDataset(images, edges)\n",
    "test_data = tfDataset(test_images, test_edges)\n",
    "print(train_data)\n",
    "print(test_data)"
   ]
  },
  {
   "cell_type": "code",
   "execution_count": null,
   "id": "e084b523-7606-4884-a291-e075b5cdd583",
   "metadata": {},
   "outputs": [],
   "source": [
    "def read2rgb(x):\n",
    "    x = cv2.imread(x)\n",
    "    x = cv2.cvtColor(x, cv2.COLOR_BGR2RGB)\n",
    "    return x"
   ]
  },
  {
   "cell_type": "code",
   "execution_count": null,
   "id": "5c2d72f6-4216-438d-ba02-ae2bcf65f34a",
   "metadata": {},
   "outputs": [],
   "source": [
    "fig = plt.figure(figsize=(15,15))\n",
    "\n",
    "a = fig.add_subplot(1,4,1)\n",
    "imgplot = plt.imshow(read2rgb(images[1]))\n",
    "\n",
    "a = fig.add_subplot(1,4,2)\n",
    "imgplot = plt.imshow(read2rgb(images[2]))\n",
    "imgplot.set_clim(0.0, 0.7)\n",
    "\n",
    "a = fig.add_subplot(1,4,3)\n",
    "imgplot = plt.imshow(read2rgb(images[3]))\n",
    "imgplot.set_clim(0.0, 1.4)\n",
    "\n",
    "a = fig.add_subplot(1,4,4)\n",
    "imgplot = plt.imshow(read2rgb(images[4]))\n",
    "imgplot.set_clim(0.0, 2.1)\n",
    "\n",
    "fig = plt.figure(figsize=(15,15))\n",
    "\n",
    "a = fig.add_subplot(1,4,1)\n",
    "imgplot = plt.imshow(read2rgb(edges[1]))\n",
    "\n",
    "a = fig.add_subplot(1,4,2)\n",
    "imgplot = plt.imshow(read2rgb(edges[2]))\n",
    "imgplot.set_clim(0.0, 0.7)\n",
    "\n",
    "a = fig.add_subplot(1,4,3)\n",
    "imgplot = plt.imshow(read2rgb(edges[3]))\n",
    "imgplot.set_clim(0.0, 1.4)\n",
    "\n",
    "a = fig.add_subplot(1,4,4)\n",
    "imgplot = plt.imshow(read2rgb(edges[4]))\n",
    "imgplot.set_clim(0.0, 2.1)"
   ]
  },
  {
   "cell_type": "code",
   "execution_count": null,
   "id": "5f54d4a3-7a43-48bd-a5af-d955baa5a9ec",
   "metadata": {},
   "outputs": [],
   "source": [
    "weight_init = tf.initializers.glorot_uniform()\n",
    "\n",
    "l2 = regularizers.l2\n",
    "w_decay=1e-3"
   ]
  },
  {
   "cell_type": "code",
   "execution_count": null,
   "id": "7677e512-3213-402c-bbb3-5129c709ad02",
   "metadata": {},
   "outputs": [],
   "source": [
    "def double_conv_block(inputs, f1, f2, stride=(1,1), act=True):\n",
    "    \n",
    "    k_reg = None if w_decay is None else l2(w_decay)\n",
    "    \n",
    "    c1 = Conv2D(filters=f1, kernel_size=(3,3), strides=stride, padding=\"same\", kernel_initializer=weight_init, kernel_regularizer=k_reg)(inputs)\n",
    "    c1 = BatchNormalization()(c1)\n",
    "    c1 = Conv2D(filters=f2, kernel_size=(3,3), strides=(1,1), padding=\"same\", kernel_initializer=weight_init, kernel_regularizer=k_reg)(c1)\n",
    "    c1 = BatchNormalization()(c1)\n",
    "    \n",
    "    if act:\n",
    "        c1 = Activation(\"relu\")(c1)\n",
    "    \n",
    "    return c1"
   ]
  },
  {
   "cell_type": "code",
   "execution_count": null,
   "id": "94fb5665-1349-421c-b246-7fdf2ce06948",
   "metadata": {},
   "outputs": [],
   "source": [
    "def DenseBlock(inputs, filters):\n",
    "    \n",
    "    k_reg = None if w_decay is None else l2(w_decay)\n",
    "    \n",
    "    c1 = Activation(\"relu\")(inputs)\n",
    "    c1 = Conv2D(filters=filters, kernel_size=(3,3), strides=(1,1), padding='same', kernel_initializer=weight_init, kernel_regularizer=k_reg)(c1)\n",
    "    c1 = BatchNormalization()(c1)\n",
    "    c1 = Activation(\"relu\")(c1)\n",
    "    c1 = Conv2D(filters=filters, kernel_size=(3,3), strides=(1,1), padding='same', kernel_initializer=weight_init, kernel_regularizer=k_reg)(c1)\n",
    "    c1 = BatchNormalization()(c1)\n",
    "    \n",
    "    return c1"
   ]
  },
  {
   "cell_type": "code",
   "execution_count": null,
   "id": "9d75898f-d68b-4662-b4e5-6143d1b3fee5",
   "metadata": {},
   "outputs": [],
   "source": [
    "def single_conv_block(inputs, filters, kernel=(1,1), strides=(1,1), bn=False, act=False, w_init=None):\n",
    "    \n",
    "    k_reg = None if w_decay is None else l2(w_decay)\n",
    "    \n",
    "    c1 = Conv2D(filters=filters, kernel_size=kernel, strides=strides, padding=\"same\", kernel_initializer=w_init, kernel_regularizer=k_reg)(inputs)\n",
    "    \n",
    "    if bn:\n",
    "        c1 = BatchNormalization()(c1)\n",
    "        \n",
    "    if act:\n",
    "        c1 = Activation(\"relu\")(c1)\n",
    "        \n",
    "    return c1"
   ]
  },
  {
   "cell_type": "code",
   "execution_count": null,
   "id": "7dbef01d-f80e-48a1-a3a4-c24e15f35e52",
   "metadata": {},
   "outputs": [],
   "source": [
    "def UpConvBlock(inputs, up_scale):\n",
    "    \n",
    "    constant_features = 16\n",
    "    k_reg = None if w_decay is None else l2(w_decay)\n",
    "    c1 = inputs\n",
    "    \n",
    "    total_up_scale = 2 ** up_scale\n",
    "    \n",
    "    for i in range(up_scale):\n",
    "        \n",
    "        filters = 1 if i == up_scale-1 else constant_features\n",
    "        \n",
    "        if i==up_scale-1:\n",
    "            \n",
    "            c1 = Conv2D(filters=filters, kernel_size=(1,1), \n",
    "                        strides=(1,1), padding='same', activation='relu', \n",
    "                        kernel_initializer=tf.initializers.TruncatedNormal(mean=0.),kernel_regularizer=k_reg)(c1)\n",
    "            c1 = Conv2DTranspose(filters, kernel_size=(total_up_scale,total_up_scale), \n",
    "                                 strides=(2,2), padding='same', kernel_initializer=tf.initializers.TruncatedNormal(stddev=0.1), \n",
    "                                 kernel_regularizer=k_reg)(c1)\n",
    "        else:\n",
    "            \n",
    "            c1 = Conv2D(filters=filters, kernel_size=(1,1), \n",
    "                        strides=(1,1), padding='same', activation='relu', \n",
    "                        kernel_initializer=tf.initializers.TruncatedNormal(mean=0.),kernel_regularizer=k_reg)(c1)\n",
    "            c1 = Conv2DTranspose(filters, kernel_size=(total_up_scale,total_up_scale), strides=(2,2), padding='same',\n",
    "                                kernel_initializer=weight_init, kernel_regularizer=k_reg)(c1)\n",
    "            \n",
    "    \n",
    "    \n",
    "    return c1   \n",
    "            "
   ]
  },
  {
   "cell_type": "code",
   "execution_count": null,
   "id": "ba3e8824-0a6b-46a6-80a6-56c275d6288a",
   "metadata": {},
   "outputs": [],
   "source": [
    "def build_model():\n",
    "    \n",
    "    inputs = Input((720, 1280,3))\n",
    "    \n",
    "    b1 = double_conv_block(inputs, 32, 64, stride=(2,2), act=False)\n",
    "    side_b1 = single_conv_block(b1, 128, strides=(2,2), bn=True, w_init=weight_init)\n",
    "    \n",
    "    b2 = double_conv_block(b1, 128, 128, act=False)\n",
    "    b2 = MaxPool2D(pool_size=(3, 3), strides=2, padding='same')(b2)\n",
    "    b2_up = Concatenate()([b2 + side_b1])\n",
    "    side_b2 = single_conv_block(b2_up, 256, strides=(2,2), bn=True, w_init=weight_init)\n",
    "    \n",
    "    b3_pre = single_conv_block(b2, 128, strides=(1,1), bn=True, w_init=weight_init)\n",
    "    b3 = DenseBlock(b2_up+b3_pre, 256)\n",
    "    b3 = DenseBlock(b3, 256)\n",
    "    b3_down = MaxPool2D(pool_size=(3,3), strides=2, padding=\"same\")(b3)\n",
    "    b3_add = b3_down + side_b2\n",
    "    side_b3 = single_conv_block(b3_add, 512, strides=(2,2), bn=True, w_init=weight_init)\n",
    "    \n",
    "    b4_pre_1 = single_conv_block(b2, 256, strides=(2,2), w_init=weight_init)\n",
    "    b4_pre_2 = single_conv_block(b3_down+b4_pre_1, 256, strides=(1,1), bn=True, w_init=weight_init)\n",
    "    b4 = DenseBlock(b3_add+b4_pre_2, 512)\n",
    "    b4 = DenseBlock(b4, 512)\n",
    "    b4 = DenseBlock(b4, 512)\n",
    "    b4_down = MaxPool2D(pool_size=(3,3), strides=(2,2), padding=\"same\")(b4)\n",
    "    b4_add = b4_down+side_b3\n",
    "    side_b4 = single_conv_block(b4_add, 512, strides=(1,1), bn=True, w_init=weight_init)\n",
    "    \n",
    "    b5_pre_1 = single_conv_block(b4_pre_1, 512, strides=(2,2), w_init=weight_init)\n",
    "    b5_pre_2 = single_conv_block(b4_down+b5_pre_1, 512, strides=(1,1), bn=True, w_init=weight_init)\n",
    "    b5 = DenseBlock(b4_add+b5_pre_2, 512)\n",
    "    b5 = DenseBlock(b5, 512)\n",
    "    b5 = DenseBlock(b5, 512)\n",
    "    b5_add = b5+side_b4\n",
    "    \n",
    "    b6_pre = single_conv_block(b5, 512, strides=(1,1), bn=True, w_init=weight_init)\n",
    "    b6 = DenseBlock(b5_add+b6_pre, 256)\n",
    "    b6 = DenseBlock(b6, 256)\n",
    "    b6 = DenseBlock(b6, 256)\n",
    "    \n",
    "    out1 = UpConvBlock(b1, 1)\n",
    "    out2 = UpConvBlock(b2, 2)\n",
    "    out3 = UpConvBlock(b3, 2)\n",
    "    out4 = UpConvBlock(b4, 3)\n",
    "    out5 = UpConvBlock(b5, 4)\n",
    "    out6 = UpConvBlock(b6, 4)\n",
    "    results = [out1, out2, out3, out4, out5, out6]\n",
    "    \n",
    "    block_cat = Concatenate()([out1,out2,out3,out4,out5,out6])\n",
    "    b1_cat = single_conv_block(block_cat, 3, strides=(1,1), bn=True, w_init=tf.constant_initializer(1/5))\n",
    "    bl = Concatenate()([block_cat, b1_cat])\n",
    "    bl = Conv2D(3, kernel_size=(3,3), padding=\"same\")(bl)\n",
    "    bl = Activation(\"sigmoid\")(bl)\n",
    "\n",
    "    return Model(inputs=inputs, outputs=bl)"
   ]
  },
  {
   "cell_type": "code",
   "execution_count": null,
   "id": "a822a533-ecb4-48c4-a230-a1f4c1d134aa",
   "metadata": {},
   "outputs": [],
   "source": [
    "model = build_model()\n",
    "model.summary()"
   ]
  },
  {
   "cell_type": "code",
   "execution_count": null,
   "id": "066ee27c-717b-4b9c-bf03-0008a3019779",
   "metadata": {},
   "outputs": [],
   "source": []
  }
 ],
 "metadata": {
  "kernelspec": {
   "display_name": "Python 3",
   "language": "python",
   "name": "python3"
  },
  "language_info": {
   "codemirror_mode": {
    "name": "ipython",
    "version": 3
   },
   "file_extension": ".py",
   "mimetype": "text/x-python",
   "name": "python",
   "nbconvert_exporter": "python",
   "pygments_lexer": "ipython3",
   "version": "3.8.8"
  }
 },
 "nbformat": 4,
 "nbformat_minor": 5
}
